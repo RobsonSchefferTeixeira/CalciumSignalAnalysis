{
 "cells": [
  {
   "cell_type": "code",
   "execution_count": 1,
   "id": "fbeda192-1aef-43cc-92b3-a8de54b5a66a",
   "metadata": {},
   "outputs": [],
   "source": [
    "\n",
    "%matplotlib widget\n",
    "\n",
    "import cell_model_base as cs_model\n",
    "import detect_peaks as dp\n",
    "import numpy as np\n",
    "import matplotlib.pyplot as plt\n",
    "import place_cell_base as pl\n",
    "import os\n",
    "import helper_functions as hf\n",
    "import scipy.stats as stats\n",
    "\n",
    "path = os.path.abspath(os.path.dirname(pl.__file__))\n",
    "\n"
   ]
  },
  {
   "cell_type": "code",
   "execution_count": 15,
   "id": "4b295eef-0101-4206-9a3e-f1d9e3da5c09",
   "metadata": {},
   "outputs": [
    {
     "name": "stderr",
     "output_type": "stream",
     "text": [
      "/home/apolo/Documents/DataAnalysis/Projects/CalciumSignalAnalysis/place_cell_base.py:178: RuntimeWarning: Mean of empty slice\n",
      "  calcium_mean_occupancy[yy,xx] = np.nanmean(mean_calcium_to_behavior_speed[np.logical_and(check_x_ocuppancy,check_y_ocuppancy)])\n"
     ]
    },
    {
     "name": "stdout",
     "output_type": "stream",
     "text": [
      "File not saved!\n"
     ]
    },
    {
     "data": {
      "application/vnd.jupyter.widget-view+json": {
       "model_id": "06f22ece72a941c39eac618201ea0669",
       "version_major": 2,
       "version_minor": 0
      },
      "text/plain": [
       "Canvas(toolbar=Toolbar(toolitems=[('Home', 'Reset original view', 'home', 'home'), ('Back', 'Back to previous …"
      ]
     },
     "metadata": {},
     "output_type": "display_data"
    }
   ],
   "source": [
    "\n",
    "mean_video_srate = 100.\n",
    "total_Time = 500\n",
    "_lambda = 10\n",
    "\n",
    "x_coordinates,y_coordinates,speed,timevector = cs_model.generate_randomWalk2(input_srate = mean_video_srate,input_total_Time = total_Time,heading_srate = 10., speed_srate = 5., rho1  = 1,sigma = 0.02,mu_e  = 0.,smooth_coeff = 0.5)\n",
    "All_arrival_time,I_timestamps = cs_model.generate_arrivals(_lambda,total_Time)\n",
    "\n",
    "# modulated_timestamps = cs_model.digitize_spiketimes(x_coordinates,y_coordinates,I_timestamps,x_center = 50,y_center = 50, s = 5)\n",
    "\n",
    "modulated_timestamps1 = cs_model.digitize_spiketimes(x_coordinates,y_coordinates,I_timestamps,x_center = 50,y_center = 50, s = 5)\n",
    "modulated_timestamps2 = cs_model.digitize_spiketimes(x_coordinates,y_coordinates,I_timestamps,x_center = 10,y_center = 10, s = 5)\n",
    "modulated_timestamps3 = cs_model.digitize_spiketimes(x_coordinates,y_coordinates,I_timestamps,x_center = 10,y_center = 90, s = 5)\n",
    "modulated_timestamps4 = cs_model.digitize_spiketimes(x_coordinates,y_coordinates,I_timestamps,x_center = 90,y_center = 90, s = 5)\n",
    "modulated_timestamps5 = cs_model.digitize_spiketimes(x_coordinates,y_coordinates,I_timestamps,x_center = 90,y_center = 10, s = 5)\n",
    "\n",
    "# modulated_timestamps1 = cs_model.digitize_spiketimes(x_coordinates,y_coordinates,I_timestamps,x_center = 40,y_center = 50, s = 5)\n",
    "# modulated_timestamps2 = cs_model.digitize_spiketimes(x_coordinates,y_coordinates,I_timestamps,x_center = 10,y_center = 20, s = 5)\n",
    "# modulated_timestamps3 = cs_model.digitize_spiketimes(x_coordinates,y_coordinates,I_timestamps,x_center = 10,y_center = 60, s = 5)\n",
    "# modulated_timestamps4 = cs_model.digitize_spiketimes(x_coordinates,y_coordinates,I_timestamps,x_center = 25,y_center = 90, s = 5)\n",
    "# modulated_timestamps5 = cs_model.digitize_spiketimes(x_coordinates,y_coordinates,I_timestamps,x_center = 90,y_center = 15, s = 5)\n",
    "\n",
    "\n",
    "modulated_timestamps = np.unique(np.concatenate([modulated_timestamps1,modulated_timestamps2,modulated_timestamps3,modulated_timestamps4,modulated_timestamps5]))\n",
    "\n",
    "modulated_timestamps = np.sort(np.random.choice(modulated_timestamps,50,replace=False))\n",
    "# modulated_timestamps = np.sort(np.random.choice(I_timestamps,50,replace=False))\n",
    "\n",
    "calcium_imag,timevector = cs_model.generate_CalciumSignal(modulated_timestamps,noise_level = 0.01, b = 5.)\n",
    "calcium_events = modulated_timestamps.shape[0]\n",
    "I_peaks = dp.detect_peaks(calcium_imag,mpd=0.5*mean_video_srate,mph=1.*np.nanstd(calcium_imag))\n",
    "\n",
    "\n",
    "place_cell = pl.PlaceCell(RatSession='Sst',day = 1, ch = 1, dataset = 'Exploration',mean_video_srate = 100.,mintimespent = 0.1,\n",
    "                          minvisits = 1, speed_threshold = 5, nbins_cal = 10, num_surrogates = 200,num_cores = 20, nbins_pos_x = 10, \n",
    "                          nbins_pos_y = 10, placefield_nbins_pos_x = 50, placefield_nbins_pos_y = 50)\n",
    "\n",
    "PlaceCellObject = place_cell.run_placeMetrics(calcium_imag,timevector,x_coordinates,y_coordinates)\n",
    "\n",
    "\n",
    "plt.figure()\n",
    "cnt = plt.contourf(PlaceCellObject['x_center_bins'],PlaceCellObject['y_center_bins'],PlaceCellObject['place_field_smoothed'],100)\n",
    "for c in cnt.collections:\n",
    "    c.set_edgecolor(\"face\")\n",
    "\n",
    "plt.plot(x_coordinates[PlaceCellObject['events_index']],y_coordinates[PlaceCellObject['events_index']],'r.')\n",
    "plt.colorbar()\n",
    "plt.title(f\"MI = {PlaceCellObject['mutualInfo_zscored']:0.3f} ; Events = {calcium_events}\")\n",
    "plt.show()\n"
   ]
  },
  {
   "cell_type": "code",
   "execution_count": 39,
   "id": "2cf271ac-ee7c-4083-9c57-7c4812e4fcd0",
   "metadata": {},
   "outputs": [
    {
     "name": "stderr",
     "output_type": "stream",
     "text": [
      "<ipython-input-38-61bb9e2df660>:53: RuntimeWarning: invalid value encountered in double_scalars\n",
      "  out_mat[i,j] = (n*sigma_x_y - sigma_x*sigma_y) / (np.sqrt(n*sigma_x2-sigma_x**2) * np.sqrt(n*sigma_y2-sigma_y**2));\n"
     ]
    },
    {
     "data": {
      "application/vnd.jupyter.widget-view+json": {
       "model_id": "650dd01538694ecf9d0a97f0c4a060c6",
       "version_major": 2,
       "version_minor": 0
      },
      "text/plain": [
       "Canvas(toolbar=Toolbar(toolitems=[('Home', 'Reset original view', 'home', 'home'), ('Back', 'Back to previous …"
      ]
     },
     "metadata": {},
     "output_type": "display_data"
    }
   ],
   "source": [
    "\n",
    "array_output = grid_spatial_autocorrelation(PlaceCellObject['place_field_smoothed'])\n",
    "array_output\n",
    "\n",
    "\n",
    "plt.figure()\n",
    "cnt = plt.contourf(array_output,100)\n",
    "for c in cnt.collections:\n",
    "    c.set_edgecolor(\"face\")\n",
    "\n",
    "plt.colorbar()\n",
    "plt.show()\n"
   ]
  },
  {
   "cell_type": "code",
   "execution_count": 26,
   "id": "8e67754d-ab17-493a-92a7-cdca76821a09",
   "metadata": {},
   "outputs": [
    {
     "data": {
      "application/vnd.jupyter.widget-view+json": {
       "model_id": "510484840c9f418fb7a3a8250cf21b83",
       "version_major": 2,
       "version_minor": 0
      },
      "text/plain": [
       "Canvas(toolbar=Toolbar(toolitems=[('Home', 'Reset original view', 'home', 'home'), ('Back', 'Back to previous …"
      ]
     },
     "metadata": {},
     "output_type": "display_data"
    }
   ],
   "source": [
    "autoCorrRot = rotate(autoCorr, angle=30, reshape=False)\n",
    "\n",
    "\n",
    "plt.figure()\n",
    "cnt = plt.contourf(autoCorrRot,100)\n",
    "for c in cnt.collections:\n",
    "    c.set_edgecolor(\"face\")\n",
    "\n",
    "plt.colorbar()\n",
    "plt.show()\n"
   ]
  },
  {
   "cell_type": "code",
   "execution_count": 19,
   "id": "a9f8b8dc-0e25-4539-9a9c-a50122079fc1",
   "metadata": {},
   "outputs": [
    {
     "data": {
      "text/plain": [
       "-0.8396819379204197"
      ]
     },
     "execution_count": 19,
     "metadata": {},
     "output_type": "execute_result"
    }
   ],
   "source": [
    "from scipy.ndimage.interpolation import rotate\n",
    "\n",
    "\n",
    "array_output_zeroed = np.copy(array_output)\n",
    "array_output_zeroed[np.isnan(array_output_zeroed)] = 0\n",
    "autoCorr = np.copy(array_output_zeroed)\n",
    "da = 3\n",
    "angles = list(range(0, 180+da, da))\n",
    "crossCorr = []\n",
    "# Rotate and compute correlation coefficient\n",
    "for angle in angles:\n",
    "    autoCorrRot = rotate(autoCorr, angle, reshape=False)\n",
    "    C = np.corrcoef(np.reshape(autoCorr, (1, autoCorr.size)),\n",
    "        np.reshape(autoCorrRot, (1, autoCorrRot.size)))\n",
    "    crossCorr.append(C[0, 1])\n",
    "\n",
    "max_angles_i = (np.array([30, 90, 150]) / da).astype(int)\n",
    "min_angles_i = (np.array([60, 120]) / da).astype(int)\n",
    "\n",
    "maxima = np.max(np.array(crossCorr)[max_angles_i])\n",
    "minima = np.min(np.array(crossCorr)[min_angles_i])\n",
    "G = minima - maxima\n",
    "G\n",
    "\n",
    "        "
   ]
  },
  {
   "cell_type": "code",
   "execution_count": 29,
   "id": "19470d1b-0225-44c6-bfaf-1505e7adb257",
   "metadata": {},
   "outputs": [
    {
     "name": "stderr",
     "output_type": "stream",
     "text": [
      "<ipython-input-29-233a78f9d8ba>:1: RuntimeWarning: More than 20 figures have been opened. Figures created through the pyplot interface (`matplotlib.pyplot.figure`) are retained until explicitly closed and may consume too much memory. (To control this warning, see the rcParam `figure.max_open_warning`).\n",
      "  plt.figure()\n"
     ]
    },
    {
     "data": {
      "application/vnd.jupyter.widget-view+json": {
       "model_id": "9bfd501bdc8e435da6f702083d7ec151",
       "version_major": 2,
       "version_minor": 0
      },
      "text/plain": [
       "Canvas(toolbar=Toolbar(toolitems=[('Home', 'Reset original view', 'home', 'home'), ('Back', 'Back to previous …"
      ]
     },
     "metadata": {},
     "output_type": "display_data"
    }
   ],
   "source": [
    "\n",
    "plt.figure()\n",
    "plt.plot(crossCorr)\n",
    "plt.show()\n"
   ]
  },
  {
   "cell_type": "code",
   "execution_count": 34,
   "id": "3b871804-990b-41c8-9df1-0f6da1c9f662",
   "metadata": {},
   "outputs": [
    {
     "data": {
      "application/vnd.jupyter.widget-view+json": {
       "model_id": "016642afd0434f13ad3483b5822a441e",
       "version_major": 2,
       "version_minor": 0
      },
      "text/plain": [
       "Canvas(toolbar=Toolbar(toolitems=[('Home', 'Reset original view', 'home', 'home'), ('Back', 'Back to previous …"
      ]
     },
     "metadata": {},
     "output_type": "display_data"
    }
   ],
   "source": [
    "import scipy. signal as sig\n",
    "\n",
    "\n",
    "array_output = sig.correlate2d(PlaceCellObject['place_field_smoothed'],PlaceCellObject['place_field_smoothed'])\n",
    "array_output\n",
    "\n",
    "\n",
    "plt.figure()\n",
    "cnt = plt.contourf(array_output,100)\n",
    "for c in cnt.collections:\n",
    "    c.set_edgecolor(\"face\")\n",
    "\n",
    "plt.colorbar()\n",
    "plt.show()\n",
    "\n"
   ]
  },
  {
   "cell_type": "code",
   "execution_count": 50,
   "id": "281b4f98-553a-476f-ad83-7750dc80d07d",
   "metadata": {},
   "outputs": [],
   "source": [
    "def grid_spatial_autocorrelation(calcium_mean_occupancy_smoothed):\n",
    "\n",
    "    mat1 = calcium_mean_occupancy_smoothed\n",
    "    mat2 = calcium_mean_occupancy_smoothed\n",
    "\n",
    "    [ma,na] = np.shape(mat1)\n",
    "    [mb,nb] = np.shape(mat2)\n",
    "\n",
    "    mc = np.max([ma+mb-1,ma,mb])\n",
    "    nc = np.max([na+nb-1,na,nb])\n",
    "    out_mat = np.nan*np.zeros([mc,nc])\n",
    "\n",
    "\n",
    "    i_size = mat2.shape[0]\n",
    "    j_size = mat2.shape[1]\n",
    "\n",
    "    mat = np.copy(mat1);\n",
    "    h = np.copy(mat2);\n",
    "    l = 1\n",
    "\n",
    "    npad_ij = np.ceil(np.array(np.shape(h))/l).astype(int);\n",
    "    npad_i = npad_ij[0];\n",
    "    npad_j = npad_ij[1];\n",
    "    in_size = np.array(np.shape(mat));\n",
    "\n",
    "    out_size = in_size + [2*npad_i, 2*npad_j];\n",
    "    work_mat = np.nan * np.zeros(out_size);\n",
    "    work_mat[(npad_i):(npad_i+in_size[0]),(npad_j):(npad_j+in_size[1])] = mat\n",
    "\n",
    "    for i in range(np.shape(out_mat)[0]):\n",
    "        for j in range(np.shape(out_mat)[1]):\n",
    "\n",
    "\n",
    "            win1 = (np.arange(npad_i+i-np.floor(i_size),(npad_i+i))).astype(int)\n",
    "            win2 = (np.arange(npad_j+j-np.floor(j_size),(npad_j+j))).astype(int)\n",
    "\n",
    "            sub_mat = work_mat[win1,:][:,win2]; \n",
    "            nan_sub_mat=sub_mat*mat2;                                             \n",
    "            notnan_inds = ~np.isnan(nan_sub_mat)\n",
    "\n",
    "            n= np.sum(notnan_inds);\n",
    "\n",
    "            if n < 20:\n",
    "                out_mat[i,j] = np.nan;\n",
    "\n",
    "            sigma_x_y = np.sum(nan_sub_mat[notnan_inds]);\n",
    "            sigma_x =   np.sum(sub_mat[notnan_inds]);\n",
    "            sigma_y =   np.sum(mat2[notnan_inds]);\n",
    "            sigma_x2 =  np.sum(sub_mat[notnan_inds]**2);\n",
    "            sigma_y2 =  np.sum(mat2[notnan_inds]**2);\n",
    "\n",
    "            out_mat[i,j] = (n*sigma_x_y - sigma_x*sigma_y) / (np.sqrt(n*sigma_x2-sigma_x**2) * np.sqrt(n*sigma_y2-sigma_y**2));\n",
    "\n",
    "    return out_mat\n",
    "\n",
    "\n"
   ]
  },
  {
   "cell_type": "code",
   "execution_count": 58,
   "id": "1df17ec0-8b2a-4cd8-a644-437ca17520b5",
   "metadata": {},
   "outputs": [],
   "source": [
    "\n",
    "mat1 = PlaceCellObject['place_field_smoothed']\n",
    "mat2 = PlaceCellObject['place_field_smoothed']\n"
   ]
  },
  {
   "cell_type": "code",
   "execution_count": 63,
   "id": "219459f9-305f-451b-af56-66522d9051df",
   "metadata": {},
   "outputs": [
    {
     "data": {
      "text/plain": [
       "50"
      ]
     },
     "execution_count": 63,
     "metadata": {},
     "output_type": "execute_result"
    }
   ],
   "source": [
    "\n",
    "[ma,na] = np.shape(mat1)\n",
    "[mb,nb] = np.shape(mat2)\n",
    "nb"
   ]
  },
  {
   "cell_type": "code",
   "execution_count": 67,
   "id": "66509d21-df0f-4ec6-8698-076444ca3149",
   "metadata": {},
   "outputs": [
    {
     "data": {
      "text/plain": [
       "(99, 99)"
      ]
     },
     "execution_count": 67,
     "metadata": {},
     "output_type": "execute_result"
    }
   ],
   "source": [
    "\n",
    "mc = np.max([ma+mb-1,ma,mb])\n",
    "nc = np.max([na+nb-1,na,nb])\n",
    "out_mat = np.nan*np.zeros([mc,nc])\n",
    "\n",
    "out_mat.shape\n"
   ]
  },
  {
   "cell_type": "code",
   "execution_count": 69,
   "id": "0ee339eb-5f02-4f4c-8f7c-45e801490ef8",
   "metadata": {},
   "outputs": [
    {
     "data": {
      "text/plain": [
       "50"
      ]
     },
     "execution_count": 69,
     "metadata": {},
     "output_type": "execute_result"
    }
   ],
   "source": [
    "\n",
    "i_size = mat2.shape[0]\n",
    "j_size = mat2.shape[1]\n",
    "j_size"
   ]
  },
  {
   "cell_type": "code",
   "execution_count": 73,
   "id": "d5691694-fe06-40c2-ac14-01ea0e265d83",
   "metadata": {},
   "outputs": [],
   "source": [
    "\n",
    "\n",
    "mat = np.copy(mat1);\n",
    "h = np.copy(mat2);\n",
    "l = 1\n",
    "\n"
   ]
  },
  {
   "cell_type": "code",
   "execution_count": 74,
   "id": "1830ca50-2040-4f05-8b80-748e2814c526",
   "metadata": {},
   "outputs": [
    {
     "data": {
      "text/plain": [
       "array([50, 50])"
      ]
     },
     "execution_count": 74,
     "metadata": {},
     "output_type": "execute_result"
    }
   ],
   "source": [
    "npad_ij = np.ceil(np.array(np.shape(h))/l).astype(int);\n",
    "npad_ij"
   ]
  },
  {
   "cell_type": "code",
   "execution_count": 81,
   "id": "99412465-a2ec-4b67-b9dd-e1197e398bd0",
   "metadata": {},
   "outputs": [
    {
     "data": {
      "text/plain": [
       "array([50, 50])"
      ]
     },
     "execution_count": 81,
     "metadata": {},
     "output_type": "execute_result"
    }
   ],
   "source": [
    "\n",
    "npad_i = npad_ij[0];\n",
    "npad_j = npad_ij[1];\n",
    "\n",
    "in_size = np.array(np.shape(mat));\n",
    "in_size"
   ]
  },
  {
   "cell_type": "code",
   "execution_count": 82,
   "id": "fde90c5d-430a-45e3-9e43-c162bc019722",
   "metadata": {},
   "outputs": [
    {
     "data": {
      "text/plain": [
       "array([150, 150])"
      ]
     },
     "execution_count": 82,
     "metadata": {},
     "output_type": "execute_result"
    }
   ],
   "source": [
    "out_size = in_size + [2*npad_i, 2*npad_j];\n",
    "out_size"
   ]
  },
  {
   "cell_type": "code",
   "execution_count": 89,
   "id": "d78158de-0d27-4dbe-ba8b-2d779dfced57",
   "metadata": {},
   "outputs": [],
   "source": [
    "work_mat = np.nan * np.zeros(out_size);\n",
    "work_mat.shape\n",
    "work_mat[(npad_i):(npad_i+in_size[0]),(npad_j):(npad_j+in_size[1])] = mat\n"
   ]
  },
  {
   "cell_type": "code",
   "execution_count": 90,
   "id": "88590ece-67a5-4f02-9210-84bf1b6c8b1d",
   "metadata": {},
   "outputs": [
    {
     "data": {
      "application/vnd.jupyter.widget-view+json": {
       "model_id": "54ae3d01c84e4130a64b7ef320362343",
       "version_major": 2,
       "version_minor": 0
      },
      "text/plain": [
       "Canvas(toolbar=Toolbar(toolitems=[('Home', 'Reset original view', 'home', 'home'), ('Back', 'Back to previous …"
      ]
     },
     "metadata": {},
     "output_type": "display_data"
    }
   ],
   "source": [
    "\n",
    "plt.figure()\n",
    "plt.pcolormesh(work_mat)\n",
    "plt.colorbar()\n",
    "plt.show()\n",
    "\n"
   ]
  },
  {
   "cell_type": "code",
   "execution_count": null,
   "id": "0cde201f-6d96-4bc6-a651-e2ab344a90ec",
   "metadata": {},
   "outputs": [],
   "source": []
  },
  {
   "cell_type": "code",
   "execution_count": 52,
   "id": "ba17e0ce-5319-4a40-9ac3-fe432767452c",
   "metadata": {},
   "outputs": [
    {
     "name": "stderr",
     "output_type": "stream",
     "text": [
      "<ipython-input-52-efbca616356b>:50: RuntimeWarning: invalid value encountered in double_scalars\n",
      "  out_mat[i,j] = (n*sigma_x_y - sigma_x*sigma_y) / (np.sqrt(n*sigma_x2-sigma_x**2) * np.sqrt(n*sigma_y2-sigma_y**2));\n"
     ]
    }
   ],
   "source": [
    "\n",
    "for i in range(np.shape(out_mat)[0]):\n",
    "    for j in range(np.shape(out_mat)[1]):\n",
    "\n",
    "\n",
    "        win1 = (np.arange(npad_i+i-np.floor(i_size),(npad_i+i))).astype(int)\n",
    "        win2 = (np.arange(npad_j+j-np.floor(j_size),(npad_j+j))).astype(int)\n",
    "\n",
    "        sub_mat = work_mat[win1,:][:,win2]; \n",
    "        nan_sub_mat=sub_mat*mat2;                                             \n",
    "        notnan_inds = ~np.isnan(nan_sub_mat)\n",
    "\n",
    "        n= np.sum(notnan_inds);\n",
    "\n",
    "        if n < 20:\n",
    "            out_mat[i,j] = np.nan;\n",
    "\n",
    "        sigma_x_y = np.sum(nan_sub_mat[notnan_inds]);\n",
    "        sigma_x =   np.sum(sub_mat[notnan_inds]);\n",
    "        sigma_y =   np.sum(mat2[notnan_inds]);\n",
    "        sigma_x2 =  np.sum(sub_mat[notnan_inds]**2);\n",
    "        sigma_y2 =  np.sum(mat2[notnan_inds]**2);\n",
    "\n",
    "        out_mat[i,j] = (n*sigma_x_y - sigma_x*sigma_y) / (np.sqrt(n*sigma_x2-sigma_x**2) * np.sqrt(n*sigma_y2-sigma_y**2));\n",
    "\n",
    "\n",
    "\n",
    "\n"
   ]
  },
  {
   "cell_type": "code",
   "execution_count": null,
   "id": "76cb6fc0-5f4a-42ab-b492-ea142f6fce1b",
   "metadata": {},
   "outputs": [],
   "source": []
  },
  {
   "cell_type": "code",
   "execution_count": 54,
   "id": "4183e240-a577-43a5-aa7d-592821b4124c",
   "metadata": {},
   "outputs": [
    {
     "data": {
      "application/vnd.jupyter.widget-view+json": {
       "model_id": "eff76203e4384df5800be2b6acfd033d",
       "version_major": 2,
       "version_minor": 0
      },
      "text/plain": [
       "Canvas(toolbar=Toolbar(toolitems=[('Home', 'Reset original view', 'home', 'home'), ('Back', 'Back to previous …"
      ]
     },
     "metadata": {},
     "output_type": "display_data"
    }
   ],
   "source": [
    "\n",
    "\n",
    "plt.figure()\n",
    "plt.pcolormesh(out_mat)\n",
    "plt.colorbar()\n",
    "plt.show()\n",
    "\n"
   ]
  }
 ],
 "metadata": {
  "kernelspec": {
   "display_name": "Python 3",
   "language": "python",
   "name": "python3"
  },
  "language_info": {
   "codemirror_mode": {
    "name": "ipython",
    "version": 3
   },
   "file_extension": ".py",
   "mimetype": "text/x-python",
   "name": "python",
   "nbconvert_exporter": "python",
   "pygments_lexer": "ipython3",
   "version": "3.8.5"
  }
 },
 "nbformat": 4,
 "nbformat_minor": 5
}
