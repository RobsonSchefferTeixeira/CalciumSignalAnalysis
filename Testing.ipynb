{
 "cells": [
  {
   "cell_type": "code",
   "execution_count": null,
   "metadata": {},
   "outputs": [],
   "source": []
  },
  {
   "cell_type": "code",
   "execution_count": 106,
   "metadata": {},
   "outputs": [
    {
     "name": "stderr",
     "output_type": "stream",
     "text": [
      "/home/apolo/Documents/DataAnalysis/Projects/CalciumSignalAnalysis/place_cell_base.py:178: RuntimeWarning: Mean of empty slice\n",
      "  calcium_mean_occupancy[yy,xx] = np.nanmean(mean_calcium_to_behavior_speed[np.logical_and(check_x_ocuppancy,check_y_ocuppancy)])\n"
     ]
    },
    {
     "name": "stdout",
     "output_type": "stream",
     "text": [
      "File not saved!\n"
     ]
    }
   ],
   "source": [
    "\n",
    "%matplotlib widget\n",
    "\n",
    "import cell_model_base as cs_model\n",
    "import detect_peaks as dp\n",
    "import numpy as np\n",
    "import matplotlib.pyplot as plt\n",
    "import place_cell_base as pl\n",
    "import os\n",
    "\n",
    "path = os.path.abspath(os.path.dirname(pl.__file__))\n",
    "\n",
    "\n",
    "mean_video_srate = 100.\n",
    "total_Time = 500\n",
    "_lambda = 10\n",
    "\n",
    "x_coordinates,y_coordinates,speed,timevector = cs_model.generate_randomWalk2(input_srate = mean_video_srate,input_total_Time = total_Time,heading_srate = 10., speed_srate = 5., rho1  = 1,sigma = 0.02,mu_e  = 0.,smooth_coeff = 0.5)\n",
    "All_arrival_time,I_timestamps = cs_model.generate_arrivals(_lambda,total_Time)\n",
    "\n",
    "modulated_timestamps = cs_model.digitize_spiketimes(x_coordinates,y_coordinates,I_timestamps,x_center = 50,y_center = 50, s = 5)\n",
    "# modulated_timestamps1 = cs_model.digitize_spiketimes(x_coordinates,y_coordinates,I_timestamps,x_center = 50,y_center = 50, s = 5)\n",
    "# modulated_timestamps2 = cs_model.digitize_spiketimes(x_coordinates,y_coordinates,I_timestamps,x_center = 10,y_center = 10, s = 5)\n",
    "# modulated_timestamps3 = cs_model.digitize_spiketimes(x_coordinates,y_coordinates,I_timestamps,x_center = 10,y_center = 90, s = 5)\n",
    "# modulated_timestamps4 = cs_model.digitize_spiketimes(x_coordinates,y_coordinates,I_timestamps,x_center = 90,y_center = 90, s = 5)\n",
    "# modulated_timestamps5 = cs_model.digitize_spiketimes(x_coordinates,y_coordinates,I_timestamps,x_center = 90,y_center = 10, s = 5)\n",
    "\n",
    "# modulated_timestamps = np.unique(np.concatenate([modulated_timestamps1,modulated_timestamps2,modulated_timestamps3,modulated_timestamps4,modulated_timestamps5]))\n",
    "modulated_timestamps = np.sort(np.random.choice(modulated_timestamps,50,replace=False))\n",
    "\n",
    "calcium_imag,timevector = cs_model.generate_CalciumSignal(modulated_timestamps,noise_level = 0.01, b = 5.)\n",
    "calcium_events = modulated_timestamps.shape[0]\n",
    "I_peaks = dp.detect_peaks(calcium_imag,mpd=0.5*mean_video_srate,mph=1.*np.nanstd(calcium_imag))\n",
    "\n",
    "\n",
    "place_cell = pl.PlaceCell(RatSession='Sst',day = 1, ch = 1, dataset = 'Exploration',mean_video_srate = 100.,mintimespent = 0.1,\n",
    "                          minvisits = 1, speed_threshold = 5, nbins_cal = 10, num_surrogates = 200,num_cores = 20, nbins_pos_x = 10, \n",
    "                          nbins_pos_y = 10, placefield_nbins_pos_x = 50, placefield_nbins_pos_y = 50)\n",
    "\n",
    "PlaceCellObject = place_cell.run_placeMetrics(calcium_imag,timevector,x_coordinates,y_coordinates)\n"
   ]
  },
  {
   "cell_type": "code",
   "execution_count": null,
   "metadata": {},
   "outputs": [],
   "source": []
  },
  {
   "cell_type": "code",
   "execution_count": null,
   "metadata": {},
   "outputs": [],
   "source": []
  },
  {
   "cell_type": "code",
   "execution_count": 107,
   "metadata": {},
   "outputs": [
    {
     "data": {
      "application/vnd.jupyter.widget-view+json": {
       "model_id": "fb66458462d444c7a77542f6ae3eac49",
       "version_major": 2,
       "version_minor": 0
      },
      "text/plain": [
       "Canvas(toolbar=Toolbar(toolitems=[('Home', 'Reset original view', 'home', 'home'), ('Back', 'Back to previous …"
      ]
     },
     "metadata": {},
     "output_type": "display_data"
    }
   ],
   "source": [
    "\n",
    "plt.figure()\n",
    "plt.eventplot(modulated_timestamps/mean_video_srate, color=\"black\")\n",
    "plt.xlabel(\"Time (s)\")\n",
    "plt.yticks([])\n",
    "plt.xlim([0,500])\n",
    "plt.xticks(range(0,600,100))\n",
    "plt.show()\n",
    "\n",
    "plt.savefig('raster_simulated_example2.svg')\n"
   ]
  },
  {
   "cell_type": "code",
   "execution_count": 108,
   "metadata": {},
   "outputs": [
    {
     "data": {
      "application/vnd.jupyter.widget-view+json": {
       "model_id": "c11a7badf9a94435882486242bc0a082",
       "version_major": 2,
       "version_minor": 0
      },
      "text/plain": [
       "Canvas(toolbar=Toolbar(toolitems=[('Home', 'Reset original view', 'home', 'home'), ('Back', 'Back to previous …"
      ]
     },
     "metadata": {},
     "output_type": "display_data"
    }
   ],
   "source": [
    "\n",
    "plt.figure()\n",
    "plt.plot(x_coordinates,y_coordinates,'k')\n",
    "plt.plot(x_coordinates[I_peaks],y_coordinates[I_peaks],'r.')\n",
    "plt.show()\n",
    "\n",
    "os.chdir(path + '/figures/')\n",
    "plt.savefig('xy_coordinates_simulated_example2.svg')\n"
   ]
  },
  {
   "cell_type": "code",
   "execution_count": 109,
   "metadata": {},
   "outputs": [
    {
     "data": {
      "application/vnd.jupyter.widget-view+json": {
       "model_id": "6a3b076918644cf8bdc36baf079f2d52",
       "version_major": 2,
       "version_minor": 0
      },
      "text/plain": [
       "Canvas(toolbar=Toolbar(toolitems=[('Home', 'Reset original view', 'home', 'home'), ('Back', 'Back to previous …"
      ]
     },
     "metadata": {},
     "output_type": "display_data"
    }
   ],
   "source": [
    "\n",
    "plt.figure()\n",
    "pcol = plt.pcolormesh(PlaceCellObject['x_grid'],PlaceCellObject['y_grid'],PlaceCellObject['place_field'])\n",
    "pcol.set_edgecolor('face')\n",
    "\n",
    "plt.plot(x_coordinates[PlaceCellObject['events_index']],y_coordinates[PlaceCellObject['events_index']],'r.')\n",
    "plt.colorbar()\n",
    "plt.title(f\"MI = {PlaceCellObject['mutualInfo_zscored']:0.3f} ; Events = {calcium_events}\")\n",
    "plt.show()\n",
    "\n",
    "os.chdir(path + '/figures/')\n",
    "plt.savefig('place_field_simulated_example2.svg')\n"
   ]
  },
  {
   "cell_type": "code",
   "execution_count": null,
   "metadata": {},
   "outputs": [],
   "source": []
  },
  {
   "cell_type": "code",
   "execution_count": 110,
   "metadata": {},
   "outputs": [
    {
     "data": {
      "application/vnd.jupyter.widget-view+json": {
       "model_id": "45b797c678cf4833b34c8c3bfedcf4ba",
       "version_major": 2,
       "version_minor": 0
      },
      "text/plain": [
       "Canvas(toolbar=Toolbar(toolitems=[('Home', 'Reset original view', 'home', 'home'), ('Back', 'Back to previous …"
      ]
     },
     "metadata": {},
     "output_type": "display_data"
    }
   ],
   "source": [
    "\n",
    "plt.figure()\n",
    "cnt = plt.contourf(PlaceCellObject['x_center_bins'],PlaceCellObject['y_center_bins'],PlaceCellObject['place_field_smoothed'],100)\n",
    "for c in cnt.collections:\n",
    "    c.set_edgecolor(\"face\")\n",
    "\n",
    "plt.colorbar()\n",
    "plt.title(f\"Mutual Information = {PlaceCellObject['mutualInfo_original']:0.3f}\")\n",
    "plt.show()\n",
    "\n",
    "os.chdir(path + '/figures/')\n",
    "plt.savefig('place_field_smoothed_simulated_example2.svg')\n"
   ]
  },
  {
   "cell_type": "code",
   "execution_count": 111,
   "metadata": {},
   "outputs": [
    {
     "data": {
      "application/vnd.jupyter.widget-view+json": {
       "model_id": "8a0a749659e84f9488a3ea3b6e9cded6",
       "version_major": 2,
       "version_minor": 0
      },
      "text/plain": [
       "Canvas(toolbar=Toolbar(toolitems=[('Home', 'Reset original view', 'home', 'home'), ('Back', 'Back to previous …"
      ]
     },
     "metadata": {},
     "output_type": "display_data"
    }
   ],
   "source": [
    "\n",
    "plt.figure()\n",
    "plt.plot(timevector,calcium_imag,'k')\n",
    "plt.xlim([0,500])\n",
    "plt.xticks(range(0,600,100))\n",
    "plt.show()\n",
    "\n",
    "os.chdir(path + '/figures/')\n",
    "plt.savefig('calcium_trace_simulated_example2.svg')\n"
   ]
  },
  {
   "cell_type": "code",
   "execution_count": null,
   "metadata": {},
   "outputs": [],
   "source": []
  },
  {
   "cell_type": "code",
   "execution_count": 112,
   "metadata": {},
   "outputs": [
    {
     "data": {
      "application/vnd.jupyter.widget-view+json": {
       "model_id": "6b0de66b7ef04434ab0f654ff6207890",
       "version_major": 2,
       "version_minor": 0
      },
      "text/plain": [
       "Canvas(toolbar=Toolbar(toolitems=[('Home', 'Reset original view', 'home', 'home'), ('Back', 'Back to previous …"
      ]
     },
     "metadata": {},
     "output_type": "display_data"
    }
   ],
   "source": [
    "counts,bins = np.histogram(PlaceCellObject['mutualInfo_permutation'],20)\n",
    "bins_centers = bins[0:-1] + np.diff(bins)\n",
    "\n",
    "bin_width = np.diff(bins_centers)[0]\n",
    "\n",
    "\n",
    "plt.close('all')\n",
    "plt.figure()\n",
    "plt.bar(bins_centers,counts,color='black',width=bin_width,linewidth=1,edgecolor='black')\n",
    "plt.plot([PlaceCellObject['mutualInfo_original'],PlaceCellObject['mutualInfo_original']],[0,np.max(counts)],'r--',linewidth=6)\n",
    "# plt.title('Z-scored Mutual Information = {0:.2f}'.format(PlaceCellObject['mutualInfo_zscored']))\n",
    "plt.title(f\"Z-scored Mutual Information = {PlaceCellObject['mutualInfo_zscored']:.3f}\")\n",
    "\n",
    "plt.show()\n",
    "plt.savefig('surrogate_distribution_simulated2.svg')\n",
    "\n"
   ]
  },
  {
   "cell_type": "code",
   "execution_count": null,
   "metadata": {},
   "outputs": [],
   "source": []
  },
  {
   "cell_type": "code",
   "execution_count": null,
   "metadata": {},
   "outputs": [],
   "source": []
  },
  {
   "cell_type": "code",
   "execution_count": null,
   "metadata": {},
   "outputs": [],
   "source": []
  },
  {
   "cell_type": "code",
   "execution_count": null,
   "metadata": {},
   "outputs": [],
   "source": [
    "# Surrogate procedure demonstration"
   ]
  },
  {
   "cell_type": "code",
   "execution_count": 117,
   "metadata": {},
   "outputs": [
    {
     "name": "stderr",
     "output_type": "stream",
     "text": [
      "/home/apolo/Documents/DataAnalysis/Projects/CalciumSignalAnalysis/place_cell_base.py:178: RuntimeWarning: Mean of empty slice\n",
      "  calcium_mean_occupancy[yy,xx] = np.nanmean(mean_calcium_to_behavior_speed[np.logical_and(check_x_ocuppancy,check_y_ocuppancy)])\n"
     ]
    },
    {
     "data": {
      "application/vnd.jupyter.widget-view+json": {
       "model_id": "7f5816b0dd7940499fd0c37012a98f29",
       "version_major": 2,
       "version_minor": 0
      },
      "text/plain": [
       "Canvas(toolbar=Toolbar(toolitems=[('Home', 'Reset original view', 'home', 'home'), ('Back', 'Back to previous …"
      ]
     },
     "metadata": {},
     "output_type": "display_data"
    },
    {
     "data": {
      "application/vnd.jupyter.widget-view+json": {
       "model_id": "a08fc3772f6148db9aa6a5b1f1b049dc",
       "version_major": 2,
       "version_minor": 0
      },
      "text/plain": [
       "Canvas(toolbar=Toolbar(toolitems=[('Home', 'Reset original view', 'home', 'home'), ('Back', 'Back to previous …"
      ]
     },
     "metadata": {},
     "output_type": "display_data"
    },
    {
     "data": {
      "application/vnd.jupyter.widget-view+json": {
       "model_id": "e4acbe15314c437b88eb8b76f61c3aab",
       "version_major": 2,
       "version_minor": 0
      },
      "text/plain": [
       "Canvas(toolbar=Toolbar(toolitems=[('Home', 'Reset original view', 'home', 'home'), ('Back', 'Back to previous …"
      ]
     },
     "metadata": {},
     "output_type": "display_data"
    }
   ],
   "source": [
    "surr = 5\n",
    "\n",
    "mean_calcium_to_behavior = calcium_imag\n",
    "mean_calcium_to_behavior = place_cell.get_surrogate(calcium_imag,0)\n",
    "\n",
    "\n",
    "track_timevector = timevector\n",
    "x_coordinates = x_coordinates\n",
    "y_coordinates = y_coordinates\n",
    "\n",
    "mean_video_srate = 100.\n",
    "mintimespent =  0.1\n",
    "minvisits = 1\n",
    "speed_threshold = 5\n",
    "num_surrogates = 200\n",
    "num_cores = 20\n",
    "placefield_nbins_pos_x = 50\n",
    "placefield_nbins_pos_y = 50\n",
    "        \n",
    "\n",
    "speed = place_cell.get_speed(x_coordinates,y_coordinates,track_timevector)\n",
    "\n",
    "\n",
    "nbins_cal = 10\n",
    "nbins_pos_x = 10\n",
    "nbins_pos_y = 10\n",
    "\n",
    "x_coordinates_valid, y_coordinates_valid, mean_calcium_to_behavior_valid, track_timevector_valid = place_cell.get_valid_timepoints(mean_calcium_to_behavior,x_coordinates,y_coordinates,track_timevector,speed_threshold)\n",
    "\n",
    "calcium_signal_binned_signal = place_cell.get_binned_signal(mean_calcium_to_behavior_valid,nbins_cal)\n",
    "\n",
    "x_grid,y_grid,x_center_bins,y_center_bins = place_cell.get_position_grid(x_coordinates,y_coordinates,nbins_pos_x,nbins_pos_y)\n",
    "\n",
    "position_binned = place_cell.get_binned_2Dposition(x_coordinates_valid,y_coordinates_valid,x_grid,y_grid)\n",
    "\n",
    "nbins_pos = nbins_pos_x*nbins_pos_y\n",
    "\n",
    "entropy1 = place_cell.get_entropy(position_binned,nbins_pos)\n",
    "\n",
    "entropy2 = place_cell.get_entropy(calcium_signal_binned_signal,nbins_cal)\n",
    "\n",
    "joint_entropy = place_cell.get_joint_entropy(position_binned,calcium_signal_binned_signal,nbins_pos,nbins_cal)\n",
    "\n",
    "mutualInfo_original = place_cell.mutualInformation(entropy1,entropy2,joint_entropy)\n",
    "\n",
    "mutualInfo_permutation = place_cell.parallelize_surrogate(position_binned,calcium_signal_binned_signal,nbins_pos,nbins_cal,num_cores,num_surrogates)\n",
    "\n",
    "mutualInfo_zscored = place_cell.get_mutualInfo_zscore(mutualInfo_original,mutualInfo_permutation)\n",
    "\n",
    "\n",
    "x_grid_pc,y_grid_pc,x_center_bins_pc,y_center_bins_pc = place_cell.get_position_grid(x_coordinates_valid,y_coordinates_valid,placefield_nbins_pos_x,placefield_nbins_pos_y)\n",
    "\n",
    "position_occupancy = place_cell.get_occupancy(x_coordinates_valid,y_coordinates_valid,x_grid_pc,y_grid_pc,mean_video_srate)\n",
    "\n",
    "calcium_mean_occupancy = place_cell.get_calcium_occupancy(mean_calcium_to_behavior_valid,x_coordinates_valid,y_coordinates_valid,x_grid_pc,y_grid_pc)\n",
    "\n",
    "visits_occupancy = place_cell.get_visits(x_coordinates_valid,y_coordinates_valid,x_grid_pc,y_grid_pc,x_center_bins_pc,y_center_bins_pc)\n",
    "\n",
    "place_field,place_field_smoothed = place_cell.placeField(calcium_mean_occupancy,position_occupancy,visits_occupancy,mintimespent, minvisits)\n",
    "\n",
    "plt.close('all')\n",
    "\n",
    "plt.figure()\n",
    "plt.plot(timevector,mean_calcium_to_behavior,'k')\n",
    "plt.show()\n",
    "\n",
    "os.chdir(path + '/figures/')\n",
    "plt.savefig('Surrogate_Trace_Example{0}.svg'.format(surr))\n",
    "\n",
    "\n",
    "\n",
    "plt.figure()\n",
    "cnt = plt.contourf(x_center_bins_pc,y_center_bins_pc,place_field_smoothed,100)\n",
    "for c in cnt.collections:\n",
    "    c.set_edgecolor(\"face\")\n",
    "\n",
    "plt.colorbar()\n",
    "plt.title(f'Mutual Information = {mutualInfo_original:0.3f}')\n",
    "plt.show()\n",
    "\n",
    "\n",
    "os.chdir(path + '/figures/')\n",
    "plt.savefig('PlaceField_Shuffled_Example{0}.svg'.format(surr))\n",
    "\n",
    "\n",
    "counts,bins = np.histogram(PlaceCellObject['mutualInfo_permutation'],20)\n",
    "bins_centers = bins[0:-1] + np.diff(bins)\n",
    "bin_width = np.diff(bins_centers)[0]\n",
    "\n",
    "plt.figure()\n",
    "plt.bar(bins_centers,counts,color='black',width=bin_width,linewidth=1,edgecolor='black')\n",
    "plt.plot([PlaceCellObject['mutualInfo_original'],PlaceCellObject['mutualInfo_original']],[0,np.max(counts)],'r--',linewidth=6)\n",
    "plt.plot([mutualInfo_original,mutualInfo_original],[0,np.max(counts)],'b--',linewidth=2)\n",
    "plt.show()\n",
    "\n",
    "plt.savefig('surrogate_distribution_simulated_perm_position{0}.svg'.format(surr))\n",
    "\n",
    "\n"
   ]
  },
  {
   "cell_type": "code",
   "execution_count": null,
   "metadata": {},
   "outputs": [],
   "source": []
  },
  {
   "cell_type": "code",
   "execution_count": null,
   "metadata": {},
   "outputs": [],
   "source": []
  },
  {
   "cell_type": "code",
   "execution_count": null,
   "metadata": {},
   "outputs": [],
   "source": [
    "\n"
   ]
  },
  {
   "cell_type": "code",
   "execution_count": null,
   "metadata": {},
   "outputs": [],
   "source": []
  },
  {
   "cell_type": "code",
   "execution_count": null,
   "metadata": {},
   "outputs": [],
   "source": []
  }
 ],
 "metadata": {
  "kernelspec": {
   "display_name": "Python 3",
   "language": "python",
   "name": "python3"
  },
  "language_info": {
   "codemirror_mode": {
    "name": "ipython",
    "version": 3
   },
   "file_extension": ".py",
   "mimetype": "text/x-python",
   "name": "python",
   "nbconvert_exporter": "python",
   "pygments_lexer": "ipython3",
   "version": "3.8.5"
  }
 },
 "nbformat": 4,
 "nbformat_minor": 4
}
