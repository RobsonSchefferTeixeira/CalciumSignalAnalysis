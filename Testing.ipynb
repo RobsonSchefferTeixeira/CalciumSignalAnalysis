{
 "cells": [
  {
   "cell_type": "code",
   "execution_count": 1,
   "metadata": {},
   "outputs": [],
   "source": []
  },
  {
   "cell_type": "code",
   "execution_count": null,
   "metadata": {},
   "outputs": [],
   "source": []
  },
  {
   "cell_type": "code",
   "execution_count": null,
   "metadata": {},
   "outputs": [],
   "source": [
    "\n",
    "        "
   ]
  },
  {
   "cell_type": "code",
   "execution_count": null,
   "metadata": {},
   "outputs": [],
   "source": []
  },
  {
   "cell_type": "code",
   "execution_count": null,
   "metadata": {},
   "outputs": [],
   "source": []
  },
  {
   "cell_type": "code",
   "execution_count": null,
   "metadata": {},
   "outputs": [],
   "source": []
  },
  {
   "cell_type": "code",
   "execution_count": 4,
   "metadata": {},
   "outputs": [],
   "source": []
  },
  {
   "cell_type": "code",
   "execution_count": 1,
   "metadata": {},
   "outputs": [],
   "source": [
    "%matplotlib widget\n",
    "\n",
    "import calciumSignal_model as cs_model\n",
    "import detect_peaks as dp\n",
    "import numpy as np\n",
    "import matplotlib.pyplot as plt\n",
    "import placeCells_BaseFunctions as pl\n"
   ]
  },
  {
   "cell_type": "code",
   "execution_count": 2,
   "metadata": {},
   "outputs": [
    {
     "data": {
      "application/vnd.jupyter.widget-view+json": {
       "model_id": "0fe57605563d4955ba2631765f331b09",
       "version_major": 2,
       "version_minor": 0
      },
      "text/plain": [
       "Canvas(toolbar=Toolbar(toolitems=[('Home', 'Reset original view', 'home', 'home'), ('Back', 'Back to previous …"
      ]
     },
     "metadata": {},
     "output_type": "display_data"
    }
   ],
   "source": [
    "mean_video_srate = 100.\n",
    "total_Time = 500\n",
    "_lambda = 1\n",
    "\n",
    "x_coordinates,y_coordinates,speed,timevector = cs_model.generate_randomWalk2(input_srate = mean_video_srate,input_total_Time = total_Time,heading_srate = 10., speed_srate = 5., rho1  = 1,sigma = 0.02,mu_e  = 0.,smooth_coeff = 0.5)\n",
    "All_arrival_time,I_timestamps = cs_model.generate_arrivals(_lambda,total_Time)\n",
    "modulated_timestamps1 = cs_model.digitize_spiketimes(x_coordinates,y_coordinates,I_timestamps,x_center = 50,y_center = 50, s = 5)\n",
    "modulated_timestamps2 = cs_model.digitize_spiketimes(x_coordinates,y_coordinates,I_timestamps,x_center = 10,y_center = 10, s = 5)\n",
    "modulated_timestamps3 = cs_model.digitize_spiketimes(x_coordinates,y_coordinates,I_timestamps,x_center = 10,y_center = 90, s = 5)\n",
    "modulated_timestamps4 = cs_model.digitize_spiketimes(x_coordinates,y_coordinates,I_timestamps,x_center = 90,y_center = 90, s = 5)\n",
    "modulated_timestamps5 = cs_model.digitize_spiketimes(x_coordinates,y_coordinates,I_timestamps,x_center = 90,y_center = 10, s = 5)\n",
    "\n",
    "modulated_timestamps = np.unique(np.concatenate([modulated_timestamps1,modulated_timestamps2,modulated_timestamps3,modulated_timestamps4,modulated_timestamps5]))\n",
    "\n",
    "calcium_imag,timevector = cs_model.generate_CalciumSignal(modulated_timestamps,noise_level = 0.01, b = 5.)\n",
    "calcium_events = modulated_timestamps.shape[0]\n",
    "I_peaks = dp.detect_peaks(calcium_imag,mpd=0.5*mean_video_srate,mph=2.*np.nanstd(calcium_imag))\n",
    "\n",
    "plt.figure()\n",
    "plt.plot(x_coordinates,y_coordinates,'k.')\n",
    "plt.plot(x_coordinates[I_peaks],y_coordinates[I_peaks],'r.')\n",
    "plt.show()\n",
    "\n",
    "# include feature allowing to select multiple positions\n",
    "# include a feature allowing to draw the 2D enviroment\n"
   ]
  },
  {
   "cell_type": "code",
   "execution_count": 3,
   "metadata": {},
   "outputs": [
    {
     "data": {
      "application/vnd.jupyter.widget-view+json": {
       "model_id": "c182f31ac88f45d08ebea16408f25299",
       "version_major": 2,
       "version_minor": 0
      },
      "text/plain": [
       "Canvas(toolbar=Toolbar(toolitems=[('Home', 'Reset original view', 'home', 'home'), ('Back', 'Back to previous …"
      ]
     },
     "metadata": {},
     "output_type": "display_data"
    }
   ],
   "source": [
    "plt.figure()\n",
    "plt.plot(timevector,calcium_imag,'k')\n",
    "plt.plot(timevector[I_peaks],calcium_imag[I_peaks],'r.')\n",
    "plt.show()"
   ]
  },
  {
   "cell_type": "code",
   "execution_count": 4,
   "metadata": {},
   "outputs": [],
   "source": [
    "%matplotlib widget\n",
    "\n",
    "import calciumSignal_model as cs_model\n",
    "import detect_peaks as dp\n",
    "import numpy as np\n",
    "import matplotlib.pyplot as plt\n",
    "import placeCells_BaseFunctions as pl\n",
    "\n",
    "\n",
    "mean_video_srate = 100.\n",
    "total_Time = 500\n",
    "_lambda = 1\n",
    "\n",
    "x_coordinates,y_coordinates,speed,timevector = cs_model.generate_randomWalk2(input_srate = mean_video_srate,input_total_Time = total_Time,heading_srate = 10., speed_srate = 5., rho1  = 1,sigma = 0.02,mu_e  = 0.,smooth_coeff = 0.5)\n",
    "All_arrival_time,I_timestamps = cs_model.generate_arrivals(_lambda,total_Time)\n",
    "modulated_timestamps1 = cs_model.digitize_spiketimes(x_coordinates,y_coordinates,I_timestamps,x_center = 50,y_center = 50, s = 5)\n",
    "modulated_timestamps2 = cs_model.digitize_spiketimes(x_coordinates,y_coordinates,I_timestamps,x_center = 10,y_center = 10, s = 5)\n",
    "modulated_timestamps3 = cs_model.digitize_spiketimes(x_coordinates,y_coordinates,I_timestamps,x_center = 10,y_center = 90, s = 5)\n",
    "modulated_timestamps4 = cs_model.digitize_spiketimes(x_coordinates,y_coordinates,I_timestamps,x_center = 90,y_center = 90, s = 5)\n",
    "modulated_timestamps5 = cs_model.digitize_spiketimes(x_coordinates,y_coordinates,I_timestamps,x_center = 90,y_center = 10, s = 5)\n",
    "\n",
    "modulated_timestamps = np.unique(np.concatenate([modulated_timestamps1,modulated_timestamps2,modulated_timestamps3,modulated_timestamps4,modulated_timestamps5]))\n",
    "\n",
    "calcium_imag,timevector = cs_model.generate_CalciumSignal(modulated_timestamps,noise_level = 0.01, b = 5.)\n",
    "calcium_events = modulated_timestamps.shape[0]\n",
    "I_peaks = dp.detect_peaks(calcium_imag,mpd=0.5*mean_video_srate,mph=2.*np.nanstd(calcium_imag))\n",
    "\n",
    "\n",
    "\n",
    "\n",
    "\n",
    "placecell = pl.PlaceCell(RatSession='Sst',day = 1, ch = 1, dataset = 'Exploration',mean_video_srate = 100.,mintimespent =  0.1,minvisits = 1, speed_threshold = 2.5, nbins_cal = 10,\n",
    "                        num_surrogates = 200,num_cores = 20, nbins_pos_x = 10, nbins_pos_y = 10, placefield_nbins_pos_x = 50, placefield_nbins_pos_y = 50)\n",
    "\n",
    "\n",
    "\n",
    "# PlaceCellObject = placeCells.run_placeMetrics(RatSession,day,ch,resultsfolder,dataset,calcium_imag,timevector,x_coordinates,y_coordinates,mean_video_srate,mintimespent, minvisits,speed_threshold,nbins_pos_x,nbins_pos_y,nbins_cal,placefield_nbins_pos_x,placefield_nbins_pos_y,num_cores,num_surrogates,saving = False,saving_string = 'CI')\n"
   ]
  },
  {
   "cell_type": "code",
   "execution_count": 5,
   "metadata": {},
   "outputs": [
    {
     "data": {
      "text/plain": [
       "<placeCells_BaseFunctions.PlaceCell at 0x7f34514adf70>"
      ]
     },
     "execution_count": 5,
     "metadata": {},
     "output_type": "execute_result"
    }
   ],
   "source": [
    "placecell"
   ]
  },
  {
   "cell_type": "code",
   "execution_count": 7,
   "metadata": {},
   "outputs": [
    {
     "name": "stdout",
     "output_type": "stream",
     "text": [
      "File not saved!\n"
     ]
    }
   ],
   "source": [
    "PlaceCellObject = placecell.run_placeMetrics(calcium_imag,timevector,x_coordinates,y_coordinates)"
   ]
  },
  {
   "cell_type": "code",
   "execution_count": 8,
   "metadata": {},
   "outputs": [
    {
     "data": {
      "application/vnd.jupyter.widget-view+json": {
       "model_id": "8aad4a43bfdd41e09b9be622a0e2fcdf",
       "version_major": 2,
       "version_minor": 0
      },
      "text/plain": [
       "Canvas(toolbar=Toolbar(toolitems=[('Home', 'Reset original view', 'home', 'home'), ('Back', 'Back to previous …"
      ]
     },
     "metadata": {},
     "output_type": "display_data"
    }
   ],
   "source": [
    "\n",
    "plt.figure()\n",
    "plt.pcolormesh(PlaceCellObject['x_grid'],PlaceCellObject['y_grid'],PlaceCellObject['signalMap'])\n",
    "plt.plot(x_coordinates[PlaceCellObject['events_index']],y_coordinates[PlaceCellObject['events_index']],'r.')\n",
    "plt.colorbar()\n",
    "plt.title('MI = ' + str(np.round(PlaceCellObject['MutualInfo_Zscored'],2)) + '; Events = ' + str(calcium_events))\n",
    "plt.show()\n"
   ]
  },
  {
   "cell_type": "code",
   "execution_count": 9,
   "metadata": {},
   "outputs": [
    {
     "data": {
      "application/vnd.jupyter.widget-view+json": {
       "model_id": "8e48d84e92eb4bd4944dc2c6b334ec54",
       "version_major": 2,
       "version_minor": 0
      },
      "text/plain": [
       "Canvas(toolbar=Toolbar(toolitems=[('Home', 'Reset original view', 'home', 'home'), ('Back', 'Back to previous …"
      ]
     },
     "metadata": {},
     "output_type": "display_data"
    }
   ],
   "source": [
    "\n",
    "plt.figure()\n",
    "plt.pcolormesh(PlaceCellObject['x_grid'],PlaceCellObject['y_grid'],PlaceCellObject['signalMapSmoothed'])\n",
    "plt.plot(x_coordinates[PlaceCellObject['events_index']],y_coordinates[PlaceCellObject['events_index']],'r.')\n",
    "plt.colorbar()\n",
    "plt.title('MI = ' + str(np.round(PlaceCellObject['MutualInfo_Zscored'],2)) + '; Events = ' + str(calcium_events))\n",
    "plt.show()\n"
   ]
  },
  {
   "cell_type": "code",
   "execution_count": 10,
   "metadata": {},
   "outputs": [
    {
     "data": {
      "application/vnd.jupyter.widget-view+json": {
       "model_id": "4bb802b8257f411496ff5bd2bf1ba85e",
       "version_major": 2,
       "version_minor": 0
      },
      "text/plain": [
       "Canvas(toolbar=Toolbar(toolitems=[('Home', 'Reset original view', 'home', 'home'), ('Back', 'Back to previous …"
      ]
     },
     "metadata": {},
     "output_type": "display_data"
    }
   ],
   "source": [
    "plt.figure()\n",
    "plt.plot(x_coordinates,y_coordinates,'k.')\n",
    "plt.plot(x_coordinates[I_peaks],y_coordinates[I_peaks],'r.')\n",
    "plt.show()"
   ]
  },
  {
   "cell_type": "code",
   "execution_count": null,
   "metadata": {},
   "outputs": [],
   "source": []
  },
  {
   "cell_type": "code",
   "execution_count": 42,
   "metadata": {},
   "outputs": [],
   "source": [
    "\n",
    "center_x = PlaceCellObject['x_grid'][0:-1] + np.diff(PlaceCellObject['x_grid'])\n",
    "center_y = PlaceCellObject['y_grid'][0:-1] + np.diff(PlaceCellObject['y_grid'])\n",
    "\n",
    "# (X,Y) = np.meshgrid(center_x,center_y)\n"
   ]
  },
  {
   "cell_type": "code",
   "execution_count": 41,
   "metadata": {},
   "outputs": [
    {
     "name": "stderr",
     "output_type": "stream",
     "text": [
      "<ipython-input-41-2d60eb3cd87c>:1: RuntimeWarning: More than 20 figures have been opened. Figures created through the pyplot interface (`matplotlib.pyplot.figure`) are retained until explicitly closed and may consume too much memory. (To control this warning, see the rcParam `figure.max_open_warning`).\n",
      "  plt.figure()\n"
     ]
    },
    {
     "data": {
      "application/vnd.jupyter.widget-view+json": {
       "model_id": "5859b8e94c1c4dff87fba0819ac6dd03",
       "version_major": 2,
       "version_minor": 0
      },
      "text/plain": [
       "Canvas(toolbar=Toolbar(toolitems=[('Home', 'Reset original view', 'home', 'home'), ('Back', 'Back to previous …"
      ]
     },
     "metadata": {},
     "output_type": "display_data"
    }
   ],
   "source": [
    "\n",
    "plt.figure()\n",
    "\n",
    "cnt = plt.contourf(X,Y,PlaceCellObject['signalMapSmoothed'],100)\n",
    "for c in cnt.collections:\n",
    "    c.set_edgecolor(\"face\")\n",
    "    \n",
    "plt.colorbar()\n",
    "plt.title('MI = ' + str(np.round(PlaceCellObject['MutualInfo_Zscored'],2)) + '; Events = ' + str(calcium_events))\n",
    "plt.show()\n",
    "\n",
    "\n"
   ]
  },
  {
   "cell_type": "code",
   "execution_count": null,
   "metadata": {},
   "outputs": [],
   "source": []
  },
  {
   "cell_type": "code",
   "execution_count": null,
   "metadata": {},
   "outputs": [],
   "source": []
  }
 ],
 "metadata": {
  "kernelspec": {
   "display_name": "Python 3",
   "language": "python",
   "name": "python3"
  },
  "language_info": {
   "codemirror_mode": {
    "name": "ipython",
    "version": 3
   },
   "file_extension": ".py",
   "mimetype": "text/x-python",
   "name": "python",
   "nbconvert_exporter": "python",
   "pygments_lexer": "ipython3",
   "version": "3.8.5"
  }
 },
 "nbformat": 4,
 "nbformat_minor": 4
}
