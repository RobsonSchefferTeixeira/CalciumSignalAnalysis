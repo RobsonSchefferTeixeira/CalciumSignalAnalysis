{
 "cells": [
  {
   "cell_type": "code",
   "execution_count": 9,
   "id": "974e46b1-05bc-49f2-b7f3-308aaa0f59ff",
   "metadata": {},
   "outputs": [],
   "source": []
  },
  {
   "cell_type": "code",
   "execution_count": null,
   "id": "b3d58f84-35bf-443b-8a19-43db04672463",
   "metadata": {},
   "outputs": [],
   "source": []
  },
  {
   "cell_type": "code",
   "execution_count": 314,
   "id": "40be11fa-eedf-42f4-879e-4a41921f70f4",
   "metadata": {},
   "outputs": [
    {
     "name": "stderr",
     "output_type": "stream",
     "text": [
      "/home/apolo/Documents/DataAnalysis/Projects/CalciumSignalAnalysis/place_cell_base.py:178: RuntimeWarning: Mean of empty slice\n",
      "  calcium_mean_occupancy[yy,xx] = np.nanmean(mean_calcium_to_behavior_speed[np.logical_and(check_x_ocuppancy,check_y_ocuppancy)])\n"
     ]
    },
    {
     "name": "stdout",
     "output_type": "stream",
     "text": [
      "File not saved!\n"
     ]
    },
    {
     "data": {
      "application/vnd.jupyter.widget-view+json": {
       "model_id": "ec3b2b7ae0e44def8e4c54daccdd8730",
       "version_major": 2,
       "version_minor": 0
      },
      "text/plain": [
       "Canvas(toolbar=Toolbar(toolitems=[('Home', 'Reset original view', 'home', 'home'), ('Back', 'Back to previous …"
      ]
     },
     "metadata": {},
     "output_type": "display_data"
    }
   ],
   "source": [
    "\n",
    "%matplotlib widget\n",
    "\n",
    "import cell_model_base as cs_model\n",
    "import detect_peaks as dp\n",
    "import numpy as np\n",
    "import matplotlib.pyplot as plt\n",
    "import place_cell_base as pl\n",
    "import os\n",
    "import helper_functions as hf\n",
    "import scipy.stats as stats\n",
    "\n",
    "path = os.path.abspath(os.path.dirname(pl.__file__))\n",
    "\n",
    "\n",
    "mean_video_srate = 100.\n",
    "total_Time = 500\n",
    "_lambda = 10\n",
    "\n",
    "x_coordinates,y_coordinates,speed,timevector = cs_model.generate_randomWalk2(input_srate = mean_video_srate,input_total_Time = total_Time,heading_srate = 10., speed_srate = 5., rho1  = 1,sigma = 0.02,mu_e  = 0.,smooth_coeff = 0.5)\n",
    "All_arrival_time,I_timestamps = cs_model.generate_arrivals(_lambda,total_Time)\n",
    "\n",
    "# modulated_timestamps = cs_model.digitize_spiketimes(x_coordinates,y_coordinates,I_timestamps,x_center = 50,y_center = 50, s = 500)\n",
    "# modulated_timestamps1 = cs_model.digitize_spiketimes(x_coordinates,y_coordinates,I_timestamps,x_center = 50,y_center = 50, s = 5)\n",
    "# modulated_timestamps2 = cs_model.digitize_spiketimes(x_coordinates,y_coordinates,I_timestamps,x_center = 10,y_center = 10, s = 5)\n",
    "# modulated_timestamps3 = cs_model.digitize_spiketimes(x_coordinates,y_coordinates,I_timestamps,x_center = 10,y_center = 90, s = 5)\n",
    "# modulated_timestamps4 = cs_model.digitize_spiketimes(x_coordinates,y_coordinates,I_timestamps,x_center = 90,y_center = 90, s = 5)\n",
    "# modulated_timestamps5 = cs_model.digitize_spiketimes(x_coordinates,y_coordinates,I_timestamps,x_center = 90,y_center = 10, s = 5)\n",
    "# modulated_timestamps = np.unique(np.concatenate([modulated_timestamps1,modulated_timestamps2,modulated_timestamps3,modulated_timestamps4,modulated_timestamps5]))\n",
    "\n",
    "# modulated_timestamps = np.sort(np.random.choice(modulated_timestamps,50,replace=False))\n",
    "modulated_timestamps = np.sort(np.random.choice(I_timestamps,50,replace=False))\n",
    "\n",
    "calcium_imag,timevector = cs_model.generate_CalciumSignal(modulated_timestamps,noise_level = 0.01, b = 5.)\n",
    "calcium_events = modulated_timestamps.shape[0]\n",
    "I_peaks = dp.detect_peaks(calcium_imag,mpd=0.5*mean_video_srate,mph=1.*np.nanstd(calcium_imag))\n",
    "\n",
    "\n",
    "place_cell = pl.PlaceCell(RatSession='Sst',day = 1, ch = 1, dataset = 'Exploration',mean_video_srate = 100.,mintimespent = 0.1,\n",
    "                          minvisits = 1, speed_threshold = 5, nbins_cal = 10, num_surrogates = 200,num_cores = 20, nbins_pos_x = 10, \n",
    "                          nbins_pos_y = 10, placefield_nbins_pos_x = 50, placefield_nbins_pos_y = 50)\n",
    "\n",
    "PlaceCellObject = place_cell.run_placeMetrics(calcium_imag,timevector,x_coordinates,y_coordinates)\n",
    "\n",
    "plt.figure()\n",
    "cnt = plt.contourf(PlaceCellObject['x_center_bins'],PlaceCellObject['y_center_bins'],PlaceCellObject['place_field_smoothed'],100)\n",
    "for c in cnt.collections:\n",
    "    c.set_edgecolor(\"face\")\n",
    "\n",
    "\n",
    "plt.plot(x_coordinates[PlaceCellObject['events_index']],y_coordinates[PlaceCellObject['events_index']],'r.')\n",
    "plt.colorbar()\n",
    "plt.title(f\"MI = {PlaceCellObject['mutualInfo_zscored']:0.3f} ; Events = {calcium_events}\")\n",
    "plt.show()\n"
   ]
  },
  {
   "cell_type": "code",
   "execution_count": null,
   "id": "5a17a33a-6f6f-4c8b-b781-bd2a69361838",
   "metadata": {},
   "outputs": [],
   "source": []
  },
  {
   "cell_type": "code",
   "execution_count": 315,
   "id": "eba9465a-a14a-492f-b7aa-aef282e811bf",
   "metadata": {},
   "outputs": [
    {
     "data": {
      "application/vnd.jupyter.widget-view+json": {
       "model_id": "63bb51ae23bd43ac9f0913bb62bb24d6",
       "version_major": 2,
       "version_minor": 0
      },
      "text/plain": [
       "Canvas(toolbar=Toolbar(toolitems=[('Home', 'Reset original view', 'home', 'home'), ('Back', 'Back to previous …"
      ]
     },
     "metadata": {},
     "output_type": "display_data"
    }
   ],
   "source": [
    "I_peaks = dp.detect_peaks(calcium_imag,mpd=1*mean_video_srate,mph=1*np.nanstd(calcium_imag))\n",
    "\n",
    "plt.figure()\n",
    "plt.plot(timevector,calcium_imag,'k')\n",
    "plt.plot(timevector[I_peaks],calcium_imag[I_peaks],'r.')\n",
    "\n",
    "plt.xlim([0,500])\n",
    "\n",
    "plt.xticks(range(0,600,100))\n",
    "plt.show()"
   ]
  },
  {
   "cell_type": "code",
   "execution_count": 328,
   "id": "ed516943-c506-47f4-975f-3eb0dfac4a9e",
   "metadata": {},
   "outputs": [
    {
     "data": {
      "application/vnd.jupyter.widget-view+json": {
       "model_id": "0833b3bade244547a3e0744f9d30772a",
       "version_major": 2,
       "version_minor": 0
      },
      "text/plain": [
       "Canvas(toolbar=Toolbar(toolitems=[('Home', 'Reset original view', 'home', 'home'), ('Back', 'Back to previous …"
      ]
     },
     "metadata": {},
     "output_type": "display_data"
    }
   ],
   "source": [
    "\n",
    "plt.figure()\n",
    "cnt = plt.contourf(PlaceCellObject['x_center_bins'],PlaceCellObject['y_center_bins'],PlaceCellObject['place_field_smoothed'],100)\n",
    "for c in cnt.collections:\n",
    "    c.set_edgecolor(\"face\")\n",
    "\n",
    "\n",
    "plt.plot(x_coordinates[PlaceCellObject['events_index']],y_coordinates[PlaceCellObject['events_index']],'r.')\n",
    "plt.colorbar()\n",
    "plt.title(f\"MI = {PlaceCellObject['mutualInfo_zscored']:0.3f} ; Events = {calcium_events}\")\n",
    "plt.show()\n",
    "\n",
    "os.chdir(path + '/figures/')\n",
    "# plt.savefig('place_field_simulated_grid_cell.svg')\n",
    "# plt.savefig('place_field_simulated_place_cell.svg')\n",
    "plt.savefig('place_field_simulated_non_place_cell.svg')\n"
   ]
  },
  {
   "cell_type": "code",
   "execution_count": 1,
   "id": "51123cc4-9386-4719-a414-5094b1c7ee3b",
   "metadata": {},
   "outputs": [],
   "source": []
  },
  {
   "cell_type": "code",
   "execution_count": 317,
   "id": "64244067-c6f4-425e-aaf4-f11aca8b6f6d",
   "metadata": {},
   "outputs": [],
   "source": [
    "from joblib import Parallel, delayed\n",
    "from sklearn.naive_bayes import GaussianNB\n",
    "\n",
    "\n",
    "nbins_pos_x = 10\n",
    "nbins_pos_y = 10\n",
    "\n",
    "xbins = nbins_pos_x\n",
    "ybins = nbins_pos_y\n",
    "\n",
    "x_range = (np.nanmax(x_coordinates) - np.nanmin(x_coordinates))\n",
    "x_grid_window = x_range/nbins_pos_x\n",
    "x_grid = np.arange(np.nanmin(x_coordinates),np.nanmax(x_coordinates) + x_grid_window/2,x_grid_window)\n",
    "\n",
    "y_range = (np.nanmax(y_coordinates) - np.nanmin(y_coordinates))\n",
    "y_grid_window = y_range/nbins_pos_y\n",
    "y_grid = np.arange(np.nanmin(y_coordinates),np.nanmax(y_coordinates) + y_grid_window/2,y_grid_window)\n",
    "\n",
    "\n",
    "x_center = x_grid[0:-1] + np.diff(x_grid)/2\n",
    "y_center = y_grid[0:-1] + np.diff(y_grid)/2\n",
    "\n",
    "bin_track_vector = np.nan*np.zeros(x_coordinates.shape[0])\n",
    "\n",
    "count = 0\n",
    "for ssx in range(xbins):\n",
    "    X_occup = np.logical_and(x_coordinates >= x_grid[ssx], x_coordinates < (x_grid[ssx+1]))\n",
    "    for ssy in range(ybins):\n",
    "        Y_occup = np.logical_and(y_coordinates >= y_grid[ssy], y_coordinates < (y_grid[ssy+1]))\n",
    "\n",
    "        bin_track_vector[np.logical_and(X_occup,Y_occup)] = count\n",
    "        count += 1\n",
    "\n",
    "I_keep = ~np.isnan(bin_track_vector)\n",
    "\n",
    "x_coordinates_new = x_coordinates[I_keep].copy()\n",
    "y_coordinates_new = y_coordinates[I_keep].copy()\n",
    "\n",
    "Target_Variable = bin_track_vector[I_keep].copy()\n",
    "\n",
    "plot_window = np.arange(np.floor(-10*mean_video_srate),np.floor(+ 10*mean_video_srate)).astype(int)/mean_video_srate\n",
    "\n",
    "\n",
    "Input_Variable = calcium_imag[I_keep].copy()\n",
    "Input_Variable_Origianl = Input_Variable.reshape(Input_Variable.shape[0],1)   \n",
    "\n",
    "xbins = nbins_pos_x\n",
    "ybins = nbins_pos_y\n",
    "\n",
    "x_center = x_grid[0:-1] + np.diff(x_grid)/2\n",
    "y_center = y_grid[0:-1] + np.diff(y_grid)/2\n",
    "\n",
    "bin_x_centers = np.repeat(x_center,ybins)\n",
    "bin_y_centers = np.tile(y_center,xbins)\n",
    "\n",
    "window_size = int(np.floor(Input_Variable.shape[0]/10.))\n",
    "I_start = np.arange(0,Input_Variable.shape[0]+1,window_size)\n",
    "\n",
    "results = Parallel(n_jobs=10)(delayed(parallel_input_decoding)(Input_Variable_Origianl,Target_Variable,I_start,bin_x_centers,bin_y_centers,x_coordinates_new,y_coordinates_new,fold) for fold in range(10))\n",
    "continuous_error_original = np.concatenate(results)\n",
    "\n",
    "triggered_error_original,triggered_calcium_original,smoothed_error_original = get_triggered_error(Input_Variable,continuous_error_original,mean_video_srate)\n",
    "correlation_pearson = np.corrcoef(Input_Variable,smoothed_error_original)[0,1]\n",
    "\n"
   ]
  },
  {
   "cell_type": "code",
   "execution_count": null,
   "id": "d76b80e3-483c-4ec2-b39b-7073e8ede98d",
   "metadata": {},
   "outputs": [],
   "source": []
  },
  {
   "cell_type": "code",
   "execution_count": null,
   "id": "3d5e600e-42d8-4ec1-a3d9-d41938e61440",
   "metadata": {},
   "outputs": [],
   "source": []
  },
  {
   "cell_type": "code",
   "execution_count": 329,
   "id": "a518fc1a-ec34-4af8-a526-7c286b55103e",
   "metadata": {},
   "outputs": [
    {
     "data": {
      "application/vnd.jupyter.widget-view+json": {
       "model_id": "1d568afea6ef45b39f9ea95877081618",
       "version_major": 2,
       "version_minor": 0
      },
      "text/plain": [
       "Canvas(toolbar=Toolbar(toolitems=[('Home', 'Reset original view', 'home', 'home'), ('Back', 'Back to previous …"
      ]
     },
     "metadata": {},
     "output_type": "display_data"
    },
    {
     "data": {
      "text/plain": [
       "0.7277650767890245"
      ]
     },
     "execution_count": 329,
     "metadata": {},
     "output_type": "execute_result"
    }
   ],
   "source": [
    "\n",
    "I_pre_window = np.where((plot_window>= -3) & (plot_window < -2))[0]\n",
    "I_pos_window = np.where((plot_window>= 0) & (plot_window < 1))[0]\n",
    "\n",
    "mean_triggered_error_original_baseline = np.nanmean(triggered_error_original[:,I_pre_window],1)\n",
    "mean_triggered_error_original_event = np.nanmean(triggered_error_original[:,I_pos_window],1)\n",
    "\n",
    "\n",
    "plt.figure()\n",
    "plt.boxplot([mean_triggered_error_original_baseline,mean_triggered_error_original_event])\n",
    "plt.plot([1.2,1.8],[mean_triggered_error_original_baseline,mean_triggered_error_original_event],'k-',alpha=0.5)\n",
    "# plt.ylim([10,90])\n",
    "plt.show()\n",
    "\n",
    "os.chdir(path + '/figures/')\n",
    "# plt.savefig('place_field_simulated_grid_cell_boxplot.svg')\n",
    "# plt.savefig('place_field_simulated_place_cell_boxplot.svg')\n",
    "plt.savefig('place_field_simulated_non_place_cell_boxplot.svg')\n",
    "\n",
    "t_dependent,pval = stats.ttest_rel(mean_triggered_error_original_baseline,mean_triggered_error_original_event,alternative='greater')\n",
    "effect_size = t_dependent/np.sqrt(mean_triggered_error_original_baseline.shape[0])\n",
    "mean_difference = np.nanmean(mean_triggered_error_original_event) - np.nanmean(mean_triggered_error_original_baseline)\n",
    "pval"
   ]
  },
  {
   "cell_type": "code",
   "execution_count": 330,
   "id": "501316b2-430b-41bf-80cd-d55f82ef8968",
   "metadata": {},
   "outputs": [
    {
     "data": {
      "application/vnd.jupyter.widget-view+json": {
       "model_id": "289291e2550649e2b40e212abf972aca",
       "version_major": 2,
       "version_minor": 0
      },
      "text/plain": [
       "Canvas(toolbar=Toolbar(toolitems=[('Home', 'Reset original view', 'home', 'home'), ('Back', 'Back to previous …"
      ]
     },
     "metadata": {},
     "output_type": "display_data"
    }
   ],
   "source": [
    "\n",
    "plt.close('all')\n",
    "\n",
    "mean_triggered_error = np.nanmean(triggered_error_original,0)\n",
    "mean_triggered_calcium = np.nanmean(triggered_calcium_original,0)\n",
    "\n",
    "plt.figure(figsize=(18,5))\n",
    "plt.plot(plot_window,triggered_error_original.T,'k',alpha=0.2)\n",
    "plt.plot(plot_window,mean_triggered_error,'r',linewidth = 4)\n",
    "plt.ylabel('Decoding Error (cm)',color='red',fontsize=15,fontweight='extra bold')\n",
    "plt.xlabel('Time (s)',fontsize=15)\n",
    "plt.grid(color='black',linestyle = '--',alpha=0.5,zorder=10)\n",
    "plt.xticks(np.arange(-10,12,2))\n",
    "plt.xlim([-5,5])\n",
    "\n",
    "plt.twinx()\n",
    "plt.plot(plot_window,mean_triggered_calcium,'g',linewidth = 4)\n",
    "plt.ylabel('Calcium Signal',color='green',fontsize=15,fontweight='extra bold')\n",
    "plt.title('Simulated Cell')\n",
    "plt.show()\n",
    "\n",
    "os.chdir(path + '/figures/')\n",
    "# plt.savefig('place_field_simulated_grid_cell_decoding.svg')\n",
    "# plt.savefig('place_field_simulated_place_cell_decoding.svg')\n",
    "plt.savefig('place_field_simulated_non_place_cell_decoding.svg')\n",
    "\n",
    "\n"
   ]
  },
  {
   "cell_type": "code",
   "execution_count": null,
   "id": "514771c9-0580-470b-9396-cc1cc01c63e3",
   "metadata": {},
   "outputs": [],
   "source": []
  },
  {
   "cell_type": "code",
   "execution_count": null,
   "id": "05e13b27-5048-474e-97b4-b04d10d2c976",
   "metadata": {},
   "outputs": [],
   "source": []
  },
  {
   "cell_type": "code",
   "execution_count": 321,
   "id": "5b8a92e9-0f55-4cba-b3b9-c9a033cf6bcc",
   "metadata": {},
   "outputs": [
    {
     "data": {
      "application/vnd.jupyter.widget-view+json": {
       "model_id": "33aa9f0392e74e70b3a3d2fb623dd969",
       "version_major": 2,
       "version_minor": 0
      },
      "text/plain": [
       "Canvas(toolbar=Toolbar(toolitems=[('Home', 'Reset original view', 'home', 'home'), ('Back', 'Back to previous …"
      ]
     },
     "metadata": {},
     "output_type": "display_data"
    }
   ],
   "source": [
    "\n",
    "import matplotlib.gridspec as gridspec\n",
    "    \n",
    "plt.close('all')\n",
    "\n",
    "mean_triggered_error = np.nanmean(triggered_error_original,0)\n",
    "mean_triggered_calcium = np.nanmean(triggered_calcium_original,0)\n",
    "\n",
    "plt.figure(figsize=(18,5))\n",
    "gridspec.GridSpec(1,3)\n",
    "\n",
    "plt.subplot2grid((1,3), (0,0), colspan=2, rowspan=1)\n",
    "#     plt.subplot(1,2,1)\n",
    "plt.plot(plot_window,triggered_error_original.T,'k',alpha=0.2)\n",
    "plt.plot(plot_window,mean_triggered_error,'r',linewidth = 4)\n",
    "plt.ylabel('Decoding Error (cm)',color='red',fontsize=15,fontweight='extra bold')\n",
    "plt.xlabel('Time (s)',fontsize=15)\n",
    "plt.grid(color='black',linestyle = '--',alpha=0.5,zorder=10)\n",
    "plt.xticks(np.arange(-10,12,2))\n",
    "plt.xlim([-5,5])\n",
    "# plt.ylim([0,26])\n",
    "\n",
    "plt.twinx()\n",
    "plt.plot(plot_window,mean_triggered_calcium,'g',linewidth = 4)\n",
    "plt.ylabel('Calcium Signal',color='green',fontsize=15,fontweight='extra bold')\n",
    "plt.title('Simulated Cell')\n",
    "\n",
    "plt.subplot2grid((1,3), (0,2))\n",
    "#     plt.subplot(1,2,2)\n",
    "plt.pcolormesh(PlaceCellObject['x_grid'],PlaceCellObject['y_grid'],PlaceCellObject['signalMap'])\n",
    "plt.plot(x_coordinates[PlaceCellObject['events_index']],y_coordinates[PlaceCellObject['events_index']],'r.')\n",
    "plt.colorbar()\n",
    "# plt.clim([0,2])\n",
    "#         plt.axis('scaled')\n",
    "plt.title('MI = ' + str(np.round(PlaceCellObject['mutualInfo_zscored'],2)) + '; Events = ' + str(calcium_events))\n",
    "\n",
    "plt.show()\n"
   ]
  },
  {
   "cell_type": "code",
   "execution_count": null,
   "id": "7b15914a-272a-4b9b-a48e-7da7455b7268",
   "metadata": {},
   "outputs": [],
   "source": []
  },
  {
   "cell_type": "code",
   "execution_count": null,
   "id": "22da3903-c163-40c9-b60b-cb08d9b2d5b5",
   "metadata": {},
   "outputs": [],
   "source": []
  },
  {
   "cell_type": "code",
   "execution_count": 322,
   "id": "d6e5ae51-7078-40f6-b8ff-769460e9a73a",
   "metadata": {},
   "outputs": [
    {
     "data": {
      "text/plain": [
       "54.33744301954309"
      ]
     },
     "execution_count": 322,
     "metadata": {},
     "output_type": "execute_result"
    }
   ],
   "source": [
    "all_dist_fields = []\n",
    "for _ in range(1000):\n",
    "    rand_pt1 = np.random.choice(PlaceCellObject['events_index'],1)\n",
    "    rand_pt2 = np.random.choice(PlaceCellObject['events_index'],1)\n",
    "\n",
    "    dist = np.sqrt((x_coordinates[rand_pt1] - x_coordinates[rand_pt2])**2 + (y_coordinates[rand_pt1]-y_coordinates[rand_pt2])**2)\n",
    "    all_dist_fields.append(dist)\n",
    "np.nanmean(all_dist_fields)"
   ]
  },
  {
   "cell_type": "code",
   "execution_count": null,
   "id": "fba86898-0fcc-4e89-b63b-0061a888f461",
   "metadata": {},
   "outputs": [],
   "source": []
  },
  {
   "cell_type": "code",
   "execution_count": 323,
   "id": "b9a89bfe-fa4a-4652-933e-0649f9036695",
   "metadata": {},
   "outputs": [
    {
     "data": {
      "text/plain": [
       "49.650917180114995"
      ]
     },
     "execution_count": 323,
     "metadata": {},
     "output_type": "execute_result"
    }
   ],
   "source": [
    "all_dist = []\n",
    "for _ in range(1000):\n",
    "    rand_pt1 = np.random.choice(range(x_coordinates.shape[0]),1)\n",
    "    rand_pt2 = np.random.choice(range(x_coordinates.shape[0]),1)\n",
    "\n",
    "    dist = np.sqrt((x_coordinates[rand_pt1] - x_coordinates[rand_pt2])**2 + (y_coordinates[rand_pt1]-y_coordinates[rand_pt2])**2)[0]\n",
    "    all_dist.append(dist)\n",
    "np.nanmean(all_dist)"
   ]
  },
  {
   "cell_type": "code",
   "execution_count": null,
   "id": "cea4e3c0-6b15-4268-8f26-17c41c60b69b",
   "metadata": {},
   "outputs": [],
   "source": []
  },
  {
   "cell_type": "code",
   "execution_count": 310,
   "id": "64bc1a5c-a5f6-409e-b981-e112619ad9c6",
   "metadata": {},
   "outputs": [],
   "source": [
    "def generate_surrogate(signal_in,permi):\n",
    "    signal_in_shuffled = []\n",
    "    I_break = np.random.choice(np.arange(int(signal_in.shape[0]*0.1),int(signal_in.shape[0]*0.9)),1)[0].astype(int)\n",
    "\n",
    "    if np.mod(permi,4) == 0:\n",
    "        signal_in_shuffled = np.concatenate([signal_in[I_break:], signal_in[0:I_break]])\n",
    "    elif np.mod(permi,4) == 1:\n",
    "        signal_in_shuffled = np.concatenate([signal_in[:I_break:-1], signal_in[0:I_break+1]])\n",
    "    elif np.mod(permi,4) == 2:\n",
    "        signal_in_shuffled = np.concatenate([signal_in[I_break:], signal_in[I_break-1::-1]])\n",
    "    else:   \n",
    "        signal_in_shuffled = np.concatenate([signal_in[I_break:], signal_in[0:I_break]])\n",
    "        signal_in_shuffled = signal_in_shuffled[::-1]\n",
    "    \n",
    "    \n",
    "    return signal_in_shuffled\n",
    "\n",
    "\n",
    "def get_triggered_error(signal_in,nearest_dist_to_predicted_bin,mean_video_srate):\n",
    "    \n",
    "    smoothed_error = hf.smooth(nearest_dist_to_predicted_bin,window_len=30)\n",
    "    I_peaks = dp.detect_peaks(signal_in,mpd=1*mean_video_srate,mph=1*np.nanstd(signal_in))\n",
    "\n",
    "    triggered_error = []\n",
    "    triggered_calcium = []\n",
    "    for ii in I_peaks:\n",
    "        if ((ii - 10*mean_video_srate) > 0) and (ii + 10*mean_video_srate < smoothed_error.shape[0]):\n",
    "            error_window = np.arange(np.floor(ii - 10*mean_video_srate),np.floor(ii + 10*mean_video_srate)).astype(int)\n",
    "            triggered_calcium.append(signal_in[error_window])\n",
    "            triggered_error.append(smoothed_error[error_window])\n",
    "\n",
    "    triggered_error = np.array(triggered_error)\n",
    "    triggered_calcium = np.array(triggered_calcium)\n",
    "    return triggered_error,triggered_calcium,smoothed_error\n",
    "\n",
    "def parallel_input_decoding(Input_Variable_Cell,Target_Variable,I_start,bin_x_centers,bin_y_centers,x_coordinates_new,y_coordinates_new,fold):\n",
    "\n",
    "\n",
    "        if fold == 9:\n",
    "            Trials_testing_set =  np.arange(I_start[fold],Input_Variable_Cell.shape[0]).astype(int)\n",
    "        else:\n",
    "            Trials_testing_set =  np.arange(I_start[fold],I_start[fold+1]).astype(int)\n",
    "\n",
    "        Trials_training_set = np.setdiff1d(range(Input_Variable_Cell.shape[0]),Trials_testing_set)\n",
    "\n",
    "        X_train = Input_Variable_Cell[Trials_training_set,:].copy()\n",
    "        y_train = Target_Variable[Trials_training_set].copy()\n",
    "\n",
    "        X_test = Input_Variable_Cell[Trials_testing_set,:].copy()\n",
    "        y_test = Target_Variable[Trials_testing_set].copy()\n",
    "\n",
    "\n",
    "        priors_in = np.ones(np.unique(Target_Variable).shape[0])/np.unique(Target_Variable).shape[0]\n",
    "\n",
    "        gnb = GaussianNB(priors = priors_in)\n",
    "        gnb.fit(X_train, y_train)\n",
    "\n",
    "        accuracy_original = gnb.score(X_test, y_test)\n",
    "\n",
    "\n",
    "        y_pred = gnb.predict(X_test)\n",
    "        y_test = y_test.astype(int)\n",
    "        y_pred = y_pred.astype(int)\n",
    "\n",
    "        diffx = (bin_x_centers[y_pred]-x_coordinates_new[Trials_testing_set])**2\n",
    "        diffy = (bin_y_centers[y_pred]-y_coordinates_new[Trials_testing_set])**2\n",
    "\n",
    "        nearest_dist_to_predicted_bin  = np.sqrt(diffx + diffy)\n",
    "\n",
    "\n",
    "        return nearest_dist_to_predicted_bin"
   ]
  },
  {
   "cell_type": "code",
   "execution_count": 309,
   "id": "af04ee98-901d-4ce0-ae87-e50e8288b275",
   "metadata": {},
   "outputs": [
    {
     "data": {
      "text/plain": [
       "(100,)"
      ]
     },
     "execution_count": 309,
     "metadata": {},
     "output_type": "execute_result"
    }
   ],
   "source": [
    "np.unique(Target_Variable).shape\n"
   ]
  }
 ],
 "metadata": {
  "kernelspec": {
   "display_name": "Python 3",
   "language": "python",
   "name": "python3"
  },
  "language_info": {
   "codemirror_mode": {
    "name": "ipython",
    "version": 3
   },
   "file_extension": ".py",
   "mimetype": "text/x-python",
   "name": "python",
   "nbconvert_exporter": "python",
   "pygments_lexer": "ipython3",
   "version": "3.8.5"
  }
 },
 "nbformat": 4,
 "nbformat_minor": 5
}
